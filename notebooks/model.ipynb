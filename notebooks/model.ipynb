{
 "cells": [
  {
   "cell_type": "code",
   "execution_count": 12,
   "metadata": {},
   "outputs": [],
   "source": [
    "import numpy as np\n",
    "import pandas as pd\n",
    "from sklearn.model_selection import train_test_split\n",
    "from sklearn.linear_model import LinearRegression\n",
    "from sklearn import metrics\n",
    "import pickle\n",
    "from statsmodels.tsa.vector_ar.var_model import VAR"
   ]
  },
  {
   "cell_type": "code",
   "execution_count": 13,
   "metadata": {},
   "outputs": [],
   "source": [
    "csv_dataset = '../data/processed/data.csv'\n",
    "csv = pd.read_csv(csv_dataset, encoding='utf_8')\n",
    "df = pd.DataFrame(csv)\n",
    "df = df.drop(columns='date')"
   ]
  },
  {
   "cell_type": "code",
   "execution_count": 14,
   "metadata": {},
   "outputs": [],
   "source": [
    "lags = 72\n",
    "\n",
    "# Split the data into training and testing sets\n",
    "train = df[:-lags]\n",
    "test = df[-lags:]\n",
    "\n",
    "# Fit a VAR model with 72 lags\n",
    "model = VAR(train)\n",
    "results = model.fit(lags)\n",
    "\n",
    "pickle.dump(model, open('../models/var', 'wb'))"
   ]
  },
  {
   "cell_type": "code",
   "execution_count": 15,
   "metadata": {},
   "outputs": [],
   "source": [
    "predictions = results.forecast(test.values, steps=lags)\n",
    "\n",
    "# Convert the predictions back to a DataFrame\n",
    "predictions = pd.DataFrame(predictions, columns=df.columns, index=test.index)\n",
    "\n",
    "predictions_train = results.fittedvalues\n",
    "train = train[lags:]\n",
    "\n",
    "with open('../reports/train_metrics.txt', 'w') as file:\n",
    "    file.write('MAE:' + str(metrics.mean_absolute_error(train, predictions_train)) + '\\n')\n",
    "    file.write('MSE:' + str(metrics.mean_squared_error(train, predictions_train)) + '\\n')\n",
    "    file.write('EVS:' + str(metrics.explained_variance_score(train, predictions_train)) + '\\n')"
   ]
  },
  {
   "cell_type": "code",
   "execution_count": 16,
   "metadata": {},
   "outputs": [],
   "source": [
    "with open('../reports/metrics.txt', 'w') as file:\n",
    "    file.write('MAE:' + str(metrics.mean_absolute_error(test, predictions)) + '\\n')\n",
    "    file.write('MSE:' + str(metrics.mean_squared_error(test, predictions)) + '\\n')\n",
    "    file.write('EVS:' + str(metrics.explained_variance_score(test, predictions)) + '\\n')\n"
   ]
  }
 ],
 "metadata": {
  "kernelspec": {
   "display_name": "base",
   "language": "python",
   "name": "python3"
  },
  "language_info": {
   "codemirror_mode": {
    "name": "ipython",
    "version": 3
   },
   "file_extension": ".py",
   "mimetype": "text/x-python",
   "name": "python",
   "nbconvert_exporter": "python",
   "pygments_lexer": "ipython3",
   "version": "3.9.12"
  },
  "orig_nbformat": 4,
  "vscode": {
   "interpreter": {
    "hash": "49cb93f377a7abe7414b7b0f21fb3017538004a126cf690fb524202736b7fb92"
   }
  }
 },
 "nbformat": 4,
 "nbformat_minor": 2
}
